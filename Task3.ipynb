{
  "nbformat": 4,
  "nbformat_minor": 0,
  "metadata": {
    "colab": {
      "provenance": [],
      "authorship_tag": "ABX9TyNl/wMVZyBQc9hOiv6e+6Ns",
      "include_colab_link": true
    },
    "kernelspec": {
      "name": "python3",
      "display_name": "Python 3"
    },
    "language_info": {
      "name": "python"
    }
  },
  "cells": [
    {
      "cell_type": "markdown",
      "metadata": {
        "id": "view-in-github",
        "colab_type": "text"
      },
      "source": [
        "<a href=\"https://colab.research.google.com/github/Salwa-S/prodigy3/blob/main/Task3.ipynb\" target=\"_parent\"><img src=\"https://colab.research.google.com/assets/colab-badge.svg\" alt=\"Open In Colab\"/></a>"
      ]
    },
    {
      "cell_type": "code",
      "execution_count": null,
      "metadata": {
        "colab": {
          "base_uri": "https://localhost:8080/"
        },
        "id": "kReJkfy5cMsz",
        "outputId": "a83baec0-89c1-45c8-cd19-dcfc7c18e22c"
      },
      "outputs": [
        {
          "output_type": "stream",
          "name": "stdout",
          "text": [
            "Generated Text:\n",
            " of our life i found myself within a dark woods where the journey of the journey of the middle of our life i found myself within a dark woods where\n"
          ]
        }
      ],
      "source": [
        "import random\n",
        "from collections import defaultdict\n",
        "def preprocess(text):\n",
        "    # Lowercase and split into words (simple tokenization)\n",
        "    return text.lower().split()\n",
        "def build_markov_chain(words):\n",
        "    markov_chain = defaultdict(list)\n",
        "\n",
        "    for i in range(len(words) - 1):\n",
        "        current_word = words[i]\n",
        "        next_word = words[i + 1]\n",
        "        markov_chain[current_word].append(next_word)\n",
        "\n",
        "    return markov_chain\n",
        "\n",
        "def generate_text(chain, start_word, length=20):\n",
        "    word = start_word\n",
        "    output = [word]\n",
        "\n",
        "    for _ in range(length - 1):\n",
        "        next_words = chain.get(word)\n",
        "        if not next_words:\n",
        "            break\n",
        "        word = random.choice(next_words)\n",
        "        output.append(word)\n",
        "\n",
        "    return ' '.join(output)\n",
        "\n",
        "text = \"\"\"\n",
        "In the middle of the journey of our life I found myself within a dark woods where the straight way was lost.\n",
        "\"\"\"\n",
        "\n",
        "words = preprocess(text)\n",
        "chain = build_markov_chain(words)\n",
        "\n",
        "start = random.choice(words)\n",
        "generated = generate_text(chain, start, 30)\n",
        "\n",
        "print(\"Generated Text:\\n\", generated)"
      ]
    }
  ]
}